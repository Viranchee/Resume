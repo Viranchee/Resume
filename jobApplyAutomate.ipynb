{
 "cells": [
  {
   "cell_type": "markdown",
   "metadata": {},
   "source": [
    "# Automating Job Applications\n",
    "\n",
    "I spend >60 minutes daily to applying for Jobs.\n",
    "\n",
    "This is the strategy:\n",
    "Be among the first ones to apply to jobs. That way, I score an interview.\n",
    "\n",
    "Most of my applications are numerous to Chip Companies.\n",
    "\n",
    "### Step 1: Scouting Relevant roles on Chip Company Websites\n",
    "\n",
    "I browse roles opened up in the last 24 hours, every day. I open the relevant job positions in new browser tabs. \n",
    "\n",
    "I have the job portals of chip and compiler companies open in a specific tab group\n",
    "\n",
    "eg. Chip companies: Intel Amd Apple Nvidia Qualcomm Broadcomm ARM Siemens Micron ADI Groq d-Matrix OctoML Meta Amazon Google Modular etc\n",
    "\n",
    "Occasionally, I peek over the description to see how relevant it is to my profile\n",
    "\n",
    "### Step 2: Applying to those roles\n",
    "\n",
    "This is the most time consuming part. Routine Form Filling for most of the portals. Unless I apply via Linkedin.com/jobs\n",
    "\n",
    "Go to a role tab, fill out the forms, use past application, many mouse clicks later, I hit submit\n",
    "\n",
    "How about I automate step 2. with Selenium"
   ]
  },
  {
   "cell_type": "code",
   "execution_count": null,
   "metadata": {},
   "outputs": [],
   "source": [
    "import subprocess\n",
    "from selenium import webdriver\n",
    "from selenium.webdriver.common.by import By\n",
    "from selenium.webdriver.common.keys import Keys\n",
    "from selenium.webdriver.support.ui import WebDriverWait\n",
    "from selenium.webdriver.support import expected_conditions as EC\n",
    "from selenium.common.exceptions import NoSuchElementException\n"
   ]
  },
  {
   "cell_type": "code",
   "execution_count": null,
   "metadata": {},
   "outputs": [],
   "source": [
    "# Get browser tab urls, ability to change tab, close tab\n",
    "# I will have to filter by Job application pages\n",
    "\n",
    "def getSafariURLs():\n",
    "    allTabs = '''\n",
    "tell application \"Safari\"\n",
    "    set allTabUrls to \"\"\n",
    "    set windowCount to count of windows\n",
    "    \n",
    "    repeat with i from 1 to windowCount\n",
    "        set tabCount to count of tabs of window i\n",
    "        \n",
    "        repeat with j from 1 to tabCount\n",
    "            set tabUrl to URL of tab j of window i\n",
    "            set allTabUrls to allTabUrls & tabUrl & linefeed\n",
    "        end repeat\n",
    "    end repeat\n",
    "    \n",
    "    return allTabUrls\n",
    "end tell\n",
    "'''\n",
    "\n",
    "    res = subprocess.run(['osascript', '-e', allTabs], capture_output=True, text=True)\n",
    "    arr = res.stdout.split()\n",
    "    return arr\n",
    "\n",
    "def closeTab():\n",
    "    closeTab = '''\n",
    "    tell application \"Safari\"\n",
    "        tell window 1\n",
    "            close current tab\n",
    "        end tell\n",
    "    end tell\n",
    "    '''\n",
    "    subprocess.run(['osascript', '-e', closeTab], capture_output=True, text=True)\n",
    "    return getSafariURLs()\n",
    "\n",
    "def nextTab():\n",
    "    nextTab = '''\n",
    "    tell application \"Safari\"\n",
    "        tell window 1\n",
    "            set currentTabIndex to index of current tab\n",
    "            set nextTabIndex to currentTabIndex + 1\n",
    "            if nextTabIndex is not greater than count of tabs then\n",
    "                set current tab to tab nextTabIndex\n",
    "            end if\n",
    "        end tell\n",
    "    end tell\n",
    "    '''\n",
    "    subprocess.run(['osascript', '-e', nextTab], capture_output=True, text=True)\n",
    "    return getSafariURLs()"
   ]
  },
  {
   "cell_type": "code",
   "execution_count": null,
   "metadata": {},
   "outputs": [],
   "source": [
    "# Let's filter for Apple and Intel tabs\n",
    "\n",
    "job_url = getSafariURLs()\n",
    "apple = []\n",
    "intel = []\n",
    "for url in job_url:\n",
    "  if \"jobs.apple.com/en-us/details\" in url:\n",
    "    apple += [url]\n",
    "  elif \"https://jobs.intel.com/en/job/\" in url or \"https://intel.wd1.myworkdayjobs.com/en-US/External/job/\" in url:\n",
    "    intel += [url]\n",
    "intel"
   ]
  },
  {
   "cell_type": "code",
   "execution_count": null,
   "metadata": {},
   "outputs": [],
   "source": [
    "# Lets use Firefox, so, I can login manually to the job portals.\n",
    "\n",
    "driver = webdriver.Firefox()\n",
    "driver.maximize_window()"
   ]
  },
  {
   "cell_type": "code",
   "execution_count": null,
   "metadata": {},
   "outputs": [],
   "source": [
    "# WebDriverWait has a clunky api. I can use a wrapper function\n",
    "\n",
    "def delayedFind(searchBy, value, patience=5) :\n",
    "  return WebDriverWait(driver,patience).until(EC.visibility_of_element_located((searchBy, value)))\n"
   ]
  },
  {
   "cell_type": "code",
   "execution_count": null,
   "metadata": {},
   "outputs": [],
   "source": [
    "\n",
    "# Sign in all job portals\n",
    "def appleSignIn():\n",
    "  driver.get(\"https://jobs.apple.com/en-us/login\")\n",
    "  input(\"Please login to Apple.com\")\n",
    "\n",
    "def intelSignIn():\n",
    "  driver.get(\"https://intel.wd1.myworkdayjobs.com/en-US/External\")\n",
    "  delayedFind(By.CLASS_NAME, '''css-1xtbc5b''').click()\n",
    "  INTEL_LOGIN = input(\"Intel ID\")\n",
    "  delayedFind(By.ID, \"input-11\").send_keys(INTEL_LOGIN)\n",
    "  INTEL_PASSWORD = input(\"Intel Password\")\n",
    "  delayedFind(By.ID, \"input-12\").send_keys(INTEL_PASSWORD)\n",
    "  delayedFind(By.CLASS_NAME, \"css-maqlan\").click()\n",
    "  input(\"Please login to Intel.com\")\n",
    "  \n",
    "# appleSignIn()\n",
    "# intelSignIn()\n"
   ]
  },
  {
   "cell_type": "code",
   "execution_count": null,
   "metadata": {},
   "outputs": [],
   "source": [
    "def apple_Submit(url):\n",
    "  driver.get(url)\n",
    "  try:\n",
    "    driver.find_element(By.PARTIAL_LINK_TEXT, \"Submit Resume\").click()\n",
    "    continueBtn = WebDriverWait(driver,5).until(EC.visibility_of_element_located((By.ID, \"applyResumeContinue\")))\n",
    "    continueBtn.click()\n",
    "    submitBtn = WebDriverWait(driver,5).until(EC.visibility_of_element_located((By.ID, \"applyReviewSubmit\")))\n",
    "    submitBtn.click()\n",
    "  except Exception as e:\n",
    "    print(e)\n",
    "\n",
    "for appleJob in apple:\n",
    "  apple_Submit(appleJob)"
   ]
  },
  {
   "cell_type": "code",
   "execution_count": null,
   "metadata": {},
   "outputs": [],
   "source": [
    "# Let's apply to Intel's job portal\n",
    "def intel_Submit(url):\n",
    "  print(url)\n",
    "  driver.get(url)\n",
    "  delayedFind( By.LINK_TEXT, \"Apply\").click()\n",
    "  delayedFind(By.LINK_TEXT, \"Use My Last Application\").click()\n",
    "  delayedFind(By.ID, \"input-1\", 15).click()\n",
    "  input(\"Select one\")\n",
    "  # Intel's How did you find this Job section: Difficulty to do with Selenium\n",
    "\n",
    "for intelJob in intel:\n",
    "  intel_Submit(intelJob)\n"
   ]
  }
 ],
 "metadata": {
  "kernelspec": {
   "display_name": "learning",
   "language": "python",
   "name": "python3"
  },
  "language_info": {
   "codemirror_mode": {
    "name": "ipython",
    "version": 3
   },
   "file_extension": ".py",
   "mimetype": "text/x-python",
   "name": "python",
   "nbconvert_exporter": "python",
   "pygments_lexer": "ipython3",
   "version": "3.11.9"
  }
 },
 "nbformat": 4,
 "nbformat_minor": 2
}
